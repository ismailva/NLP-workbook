{
  "nbformat": 4,
  "nbformat_minor": 0,
  "metadata": {
    "colab": {
      "name": "bigspring_data_preprocessing.ipynb",
      "provenance": [],
      "collapsed_sections": []
    },
    "kernelspec": {
      "name": "python3",
      "display_name": "Python 3"
    },
    "language_info": {
      "name": "python"
    }
  },
  "cells": [
    {
      "cell_type": "code",
      "execution_count": 3,
      "metadata": {
        "colab": {
          "base_uri": "https://localhost:8080/",
          "height": 36
        },
        "id": "0X6Kd9ysWxWA",
        "outputId": "e3c46115-537a-4168-afa0-76521164d93b"
      },
      "outputs": [
        {
          "output_type": "execute_result",
          "data": {
            "application/vnd.google.colaboratory.intrinsic+json": {
              "type": "string"
            },
            "text/plain": [
              "'/content'"
            ]
          },
          "metadata": {},
          "execution_count": 3
        }
      ],
      "source": [
        "import os\n",
        "import pandas as pd\n",
        "import numpy as np\n",
        "\n",
        "os.getcwd()"
      ]
    },
    {
      "cell_type": "code",
      "source": [
        "os.chdir(\"/content/drive/MyDrive/Learning/bigspring_assignment/twitter_cs/\")\n",
        "os.getcwd()"
      ],
      "metadata": {
        "colab": {
          "base_uri": "https://localhost:8080/",
          "height": 36
        },
        "id": "hK3COQzVW2U_",
        "outputId": "b3ad5851-c188-4635-cf9c-175fbfa16b5a"
      },
      "execution_count": 4,
      "outputs": [
        {
          "output_type": "execute_result",
          "data": {
            "application/vnd.google.colaboratory.intrinsic+json": {
              "type": "string"
            },
            "text/plain": [
              "'/content/drive/MyDrive/Learning/bigspring_assignment/twitter_cs'"
            ]
          },
          "metadata": {},
          "execution_count": 4
        }
      ]
    },
    {
      "cell_type": "code",
      "source": [
        "sample_df = pd.read_csv(\"twcs/twcs.csv\")\n",
        "sample_df.set_index(\"tweet_id\", inplace=True)\n",
        "sample_df.head()\n",
        "sample_df.info()"
      ],
      "metadata": {
        "colab": {
          "base_uri": "https://localhost:8080/"
        },
        "id": "-HbtxBC0W4Jb",
        "outputId": "81480312-6195-4ce0-a479-eccf9be5c3a6"
      },
      "execution_count": 5,
      "outputs": [
        {
          "output_type": "stream",
          "name": "stdout",
          "text": [
            "<class 'pandas.core.frame.DataFrame'>\n",
            "Int64Index: 2811774 entries, 1 to 2987950\n",
            "Data columns (total 6 columns):\n",
            " #   Column                   Dtype  \n",
            "---  ------                   -----  \n",
            " 0   author_id                object \n",
            " 1   inbound                  bool   \n",
            " 2   created_at               object \n",
            " 3   text                     object \n",
            " 4   response_tweet_id        object \n",
            " 5   in_response_to_tweet_id  float64\n",
            "dtypes: bool(1), float64(1), object(4)\n",
            "memory usage: 131.4+ MB\n"
          ]
        }
      ]
    },
    {
      "cell_type": "code",
      "source": [
        "query_df = sample_df[sample_df.in_response_to_tweet_id.isna()]\n",
        "query_df['text'] = query_df['text'].fillna(\"\")\n",
        "query_df[\"followup\"]=\"\"\n",
        "query_df[\"solution\"]=\"\"\n",
        "query_df[\"customer_handle\"]=\"\""
      ],
      "metadata": {
        "colab": {
          "base_uri": "https://localhost:8080/"
        },
        "id": "Vzqsg5EFW6e9",
        "outputId": "9842a06d-a72a-4b00-8248-47d5b27e0ca0"
      },
      "execution_count": 6,
      "outputs": [
        {
          "output_type": "stream",
          "name": "stderr",
          "text": [
            "/usr/local/lib/python3.7/dist-packages/ipykernel_launcher.py:2: SettingWithCopyWarning: \n",
            "A value is trying to be set on a copy of a slice from a DataFrame.\n",
            "Try using .loc[row_indexer,col_indexer] = value instead\n",
            "\n",
            "See the caveats in the documentation: https://pandas.pydata.org/pandas-docs/stable/user_guide/indexing.html#returning-a-view-versus-a-copy\n",
            "  \n",
            "/usr/local/lib/python3.7/dist-packages/ipykernel_launcher.py:3: SettingWithCopyWarning: \n",
            "A value is trying to be set on a copy of a slice from a DataFrame.\n",
            "Try using .loc[row_indexer,col_indexer] = value instead\n",
            "\n",
            "See the caveats in the documentation: https://pandas.pydata.org/pandas-docs/stable/user_guide/indexing.html#returning-a-view-versus-a-copy\n",
            "  This is separate from the ipykernel package so we can avoid doing imports until\n",
            "/usr/local/lib/python3.7/dist-packages/ipykernel_launcher.py:4: SettingWithCopyWarning: \n",
            "A value is trying to be set on a copy of a slice from a DataFrame.\n",
            "Try using .loc[row_indexer,col_indexer] = value instead\n",
            "\n",
            "See the caveats in the documentation: https://pandas.pydata.org/pandas-docs/stable/user_guide/indexing.html#returning-a-view-versus-a-copy\n",
            "  after removing the cwd from sys.path.\n",
            "/usr/local/lib/python3.7/dist-packages/ipykernel_launcher.py:5: SettingWithCopyWarning: \n",
            "A value is trying to be set on a copy of a slice from a DataFrame.\n",
            "Try using .loc[row_indexer,col_indexer] = value instead\n",
            "\n",
            "See the caveats in the documentation: https://pandas.pydata.org/pandas-docs/stable/user_guide/indexing.html#returning-a-view-versus-a-copy\n",
            "  \"\"\"\n"
          ]
        }
      ]
    },
    {
      "cell_type": "code",
      "source": [
        "def find_relevant_ids(row):\n",
        "  ref_tweet_ids=[]\n",
        "  r_tweet_id = row.response_tweet_id\n",
        "  if type(r_tweet_id) == str:\n",
        "    ref_tweet_ids=str(r_tweet_id).split(\",\")\n",
        "    ref_tweet_ids=list(map(int,ref_tweet_ids))\n",
        "  return ref_tweet_ids\n",
        "\n",
        "def update_followup(row):\n",
        "  global sample_df\n",
        "  customer_handle_to_find = True\n",
        "\n",
        "  ref_tweet_ids=find_relevant_ids(row)\n",
        "  for tweet_id in ref_tweet_ids:\n",
        "    try:\n",
        "      ref_row = sample_df.loc[tweet_id]\n",
        "      N_LIST = find_relevant_ids(ref_row)\n",
        "      if not N_LIST:\n",
        "        break\n",
        "      ref_tweet_ids.extend(N_LIST)\n",
        "    except:\n",
        "      continue\n",
        "  for tweet_id in ref_tweet_ids:\n",
        "    try:\n",
        "      ref_row = sample_df.loc[tweet_id]\n",
        "    except:\n",
        "      continue\n",
        "    ref_row_author_id = str(ref_row['author_id'])\n",
        "    if ref_row_author_id.isdigit() and ref_row['author_id']==row['author_id']:\n",
        "      row.text = row.text + \"\\n\" + ref_row.text\n",
        "\n",
        "    elif not ref_row_author_id.isdigit() and customer_handle_to_find:\n",
        "      row.customer_handle = ref_row.author_id\n",
        "      customer_handle_to_find=False\n",
        "      row.followup=ref_row.text\n",
        "    elif not ref_row_author_id.isdigit():\n",
        "      row.solution=row.solution + \"\\n\" + ref_row.text\n",
        "  return row"
      ],
      "metadata": {
        "id": "uFgkYVKnXUH9"
      },
      "execution_count": 7,
      "outputs": []
    },
    {
      "cell_type": "code",
      "source": [
        "query_df = query_df.apply(update_followup, axis=1)"
      ],
      "metadata": {
        "id": "86rozTHgXmyv"
      },
      "execution_count": 8,
      "outputs": []
    },
    {
      "cell_type": "code",
      "source": [
        "query_df.info()"
      ],
      "metadata": {
        "colab": {
          "base_uri": "https://localhost:8080/"
        },
        "id": "37-by54ywM5X",
        "outputId": "a3810d59-fd9b-4556-cc06-10661579e8d1"
      },
      "execution_count": 9,
      "outputs": [
        {
          "output_type": "stream",
          "name": "stdout",
          "text": [
            "<class 'pandas.core.frame.DataFrame'>\n",
            "Int64Index: 794335 entries, 8 to 2987950\n",
            "Data columns (total 9 columns):\n",
            " #   Column                   Non-Null Count   Dtype  \n",
            "---  ------                   --------------   -----  \n",
            " 0   author_id                794335 non-null  object \n",
            " 1   inbound                  794335 non-null  bool   \n",
            " 2   created_at               794335 non-null  object \n",
            " 3   text                     794335 non-null  object \n",
            " 4   response_tweet_id        794335 non-null  object \n",
            " 5   in_response_to_tweet_id  0 non-null       float64\n",
            " 6   followup                 794335 non-null  object \n",
            " 7   solution                 794335 non-null  object \n",
            " 8   customer_handle          794335 non-null  object \n",
            "dtypes: bool(1), float64(1), object(7)\n",
            "memory usage: 55.3+ MB\n"
          ]
        }
      ]
    },
    {
      "cell_type": "code",
      "source": [
        "!pip install contractions"
      ],
      "metadata": {
        "colab": {
          "base_uri": "https://localhost:8080/"
        },
        "id": "zQqm4ESPpmBc",
        "outputId": "e5341620-ca34-4519-9f5f-8475c2e39cb6"
      },
      "execution_count": 10,
      "outputs": [
        {
          "output_type": "stream",
          "name": "stdout",
          "text": [
            "Requirement already satisfied: contractions in /usr/local/lib/python3.7/dist-packages (0.1.66)\n",
            "Requirement already satisfied: textsearch>=0.0.21 in /usr/local/lib/python3.7/dist-packages (from contractions) (0.0.21)\n",
            "Requirement already satisfied: pyahocorasick in /usr/local/lib/python3.7/dist-packages (from textsearch>=0.0.21->contractions) (1.4.4)\n",
            "Requirement already satisfied: anyascii in /usr/local/lib/python3.7/dist-packages (from textsearch>=0.0.21->contractions) (0.3.0)\n"
          ]
        }
      ]
    },
    {
      "cell_type": "code",
      "source": [
        "#!pip install contractions\n",
        "import contractions\n",
        "\n",
        "def remove_emoji(string):\n",
        "  string = string.encode('ascii', 'ignore').decode('ascii')\n",
        "  return string\n",
        "  \n",
        "def preprocess(text):\n",
        "  text = text.lower()\n",
        "  text = remove_emoji(text)\n",
        "  text = text.replace(\"\\n\",\". \")\n",
        "  new_text = []\n",
        "  for t in text.split(\" \"):\n",
        "    t = '' if t.startswith('@') and len(t) > 1 else t\n",
        "    #t = '' if t.startswith('.@') and len(t) > 1 else t\n",
        "    t = '' if t.startswith('http') else t\n",
        "    t = '' if t.startswith('#') and len(t) > 1 else t\n",
        "    t = contractions.fix(t)\n",
        "    new_text.append(t)\n",
        "  return \" \".join(new_text)"
      ],
      "metadata": {
        "id": "KFmZapRL6SJg"
      },
      "execution_count": 11,
      "outputs": []
    },
    {
      "cell_type": "code",
      "source": [
        "query_df.text = query_df.text.apply(preprocess)\n",
        "query_df.followup = query_df.followup.apply(preprocess)\n",
        "query_df.solution = query_df.solution.apply(preprocess)"
      ],
      "metadata": {
        "id": "lnNx5Sul6UoV"
      },
      "execution_count": 12,
      "outputs": []
    },
    {
      "cell_type": "code",
      "source": [
        "import matplotlib.pyplot as plt\n",
        "fig = plt.figure(figsize = (20, 20))"
      ],
      "metadata": {
        "colab": {
          "base_uri": "https://localhost:8080/",
          "height": 35
        },
        "id": "pngiGtNBd8bF",
        "outputId": "1ede3c40-4733-4511-b94a-3a537b05398c"
      },
      "execution_count": 13,
      "outputs": [
        {
          "output_type": "display_data",
          "data": {
            "text/plain": [
              "<Figure size 1440x1440 with 0 Axes>"
            ]
          },
          "metadata": {}
        }
      ]
    },
    {
      "cell_type": "code",
      "source": [
        "categorywise_count = query_df.groupby(\"customer_handle\").author_id.count().sort_values(ascending=False)"
      ],
      "metadata": {
        "id": "3yiPLsZ0ryeG"
      },
      "execution_count": 14,
      "outputs": []
    },
    {
      "cell_type": "code",
      "source": [
        "categorywise_count_for_graph = categorywise_count[:25]"
      ],
      "metadata": {
        "id": "ZY6DgGr6xGmC"
      },
      "execution_count": 15,
      "outputs": []
    },
    {
      "cell_type": "code",
      "source": [
        "categorywise_count_for_graph.plot.bar()"
      ],
      "metadata": {
        "colab": {
          "base_uri": "https://localhost:8080/",
          "height": 365
        },
        "id": "0qSVXwVtsDdz",
        "outputId": "3492085e-f5b6-4058-d549-0e0bf3947ba7"
      },
      "execution_count": 16,
      "outputs": [
        {
          "output_type": "execute_result",
          "data": {
            "text/plain": [
              "<matplotlib.axes._subplots.AxesSubplot at 0x7f0d7d94e450>"
            ]
          },
          "metadata": {},
          "execution_count": 16
        },
        {
          "output_type": "display_data",
          "data": {
            "image/png": "[encoded data removed]",
            "text/plain": [
              "<Figure size 432x288 with 1 Axes>"
            ]
          },
          "metadata": {
            "needs_background": "light"
          }
        }
      ]
    },
    {
      "cell_type": "code",
      "source": [
        "categorywise_count.shape"
      ],
      "metadata": {
        "colab": {
          "base_uri": "https://localhost:8080/"
        },
        "id": "WagRR4LzNAiH",
        "outputId": "c9184145-3dcf-4398-ebdc-37243c6e3a0e"
      },
      "execution_count": 17,
      "outputs": [
        {
          "output_type": "execute_result",
          "data": {
            "text/plain": [
              "(108,)"
            ]
          },
          "metadata": {},
          "execution_count": 17
        }
      ]
    },
    {
      "cell_type": "code",
      "source": [
        "#query_df.to_excel(\"final_cleaned.xlsx\")\n",
        "#thresholdVal = 5000\n",
        "#query_df=query_df[query_df.groupby(\"customer_handle\")[\"author_id\"].transform('size')>=thresholdVal]\n",
        "query_df=query_df.drop(columns=[\"inbound\",\"created_at\",\"response_tweet_id\",\"in_response_to_tweet_id\"])\n",
        "query_df=query_df[query_df[\"author_id\"].str.isdigit()]\n",
        "query_df[\"text\"] = query_df[\"text\"].str.strip()\n",
        "query_df[\"followup\"] = query_df[\"followup\"].str.strip()\n",
        "query_df[\"solution\"] = query_df[\"solution\"].str.strip()\n",
        "query_df=query_df[query_df[\"text\"]!=\"\"]\n",
        "\n",
        "query_df.to_excel(\"final_cleaned_filtered.xlsx\")"
      ],
      "metadata": {
        "id": "BAgUG3YaMogf"
      },
      "execution_count": 18,
      "outputs": []
    },
    {
      "cell_type": "code",
      "source": [
        "query_df[\"customer_handle\"].value_counts()"
      ],
      "metadata": {
        "colab": {
          "base_uri": "https://localhost:8080/"
        },
        "id": "WZOkc0KUiWI2",
        "outputId": "e82567c1-7de1-45e3-a9a4-5ec5d90a6c40"
      },
      "execution_count": 33,
      "outputs": [
        {
          "output_type": "execute_result",
          "data": {
            "text/plain": [
              "AmazonHelp         80495\n",
              "AppleSupport       80007\n",
              "Uber_Support       41603\n",
              "SpotifyCares       28061\n",
              "Delta              25822\n",
              "                   ...  \n",
              "AskDSC               197\n",
              "mediatemplehelp      171\n",
              "CarlsJr              150\n",
              "HotelTonightCX       123\n",
              "OfficeSupport         91\n",
              "Name: customer_handle, Length: 108, dtype: int64"
            ]
          },
          "metadata": {},
          "execution_count": 33
        }
      ]
    },
    {
      "cell_type": "code",
      "source": [
        "import os\n",
        "import pandas as pd\n",
        "import numpy as np\n",
        "\n",
        "os.getcwd()\n",
        "os.chdir(\"/content/drive/MyDrive/Learning/bigspring_assignment/twitter_cs/\")\n"
      ],
      "metadata": {
        "id": "IehR8NVKFar5"
      },
      "execution_count": 34,
      "outputs": []
    },
    {
      "cell_type": "code",
      "source": [
        "query_df=pd.read_excel(\"final_cleaned_filtered.xlsx\")\n",
        "query_df=query_df.set_index(\"tweet_id\")\n",
        "query_df=query_df[~pd.isnull(query_df[\"text\"])]\n",
        "query_df=query_df.fillna(\"\")"
      ],
      "metadata": {
        "id": "-Qwk1v9lGhey"
      },
      "execution_count": 35,
      "outputs": []
    },
    {
      "cell_type": "code",
      "source": [
        "query_df.info()"
      ],
      "metadata": {
        "colab": {
          "base_uri": "https://localhost:8080/"
        },
        "id": "G5g8j7Y80fgx",
        "outputId": "24ebcbce-966b-4650-9643-52b30127bbb7"
      },
      "execution_count": 36,
      "outputs": [
        {
          "output_type": "stream",
          "name": "stdout",
          "text": [
            "<class 'pandas.core.frame.DataFrame'>\n",
            "Int64Index: 783574 entries, 8 to 2987950\n",
            "Data columns (total 5 columns):\n",
            " #   Column           Non-Null Count   Dtype \n",
            "---  ------           --------------   ----- \n",
            " 0   author_id        783574 non-null  int64 \n",
            " 1   text             783574 non-null  object\n",
            " 2   followup         783574 non-null  object\n",
            " 3   solution         783574 non-null  object\n",
            " 4   customer_handle  783574 non-null  object\n",
            "dtypes: int64(1), object(4)\n",
            "memory usage: 35.9+ MB\n"
          ]
        }
      ]
    },
    {
      "cell_type": "code",
      "source": [
        "import nltk\n",
        "from nltk.tokenize import sent_tokenize, word_tokenize, RegexpTokenizer\n",
        "nltk.download('punkt')\n"
      ],
      "metadata": {
        "colab": {
          "base_uri": "https://localhost:8080/"
        },
        "id": "ZpD5ZbIblALt",
        "outputId": "355dbc69-c9a2-46df-ca28-0fce40814abe"
      },
      "execution_count": 37,
      "outputs": [
        {
          "output_type": "stream",
          "name": "stdout",
          "text": [
            "[nltk_data] Downloading package punkt to /root/nltk_data...\n",
            "[nltk_data]   Package punkt is already up-to-date!\n"
          ]
        },
        {
          "output_type": "execute_result",
          "data": {
            "text/plain": [
              "True"
            ]
          },
          "metadata": {},
          "execution_count": 37
        }
      ]
    },
    {
      "cell_type": "code",
      "source": [
        "import itertools\n",
        "\n",
        "def create_word_list(row):\n",
        "  all_tokens = []\n",
        "  tokens = sent_tokenize(row.text)\n",
        "  tokens2 = sent_tokenize(row.followup)\n",
        "  tokens3 = sent_tokenize(row.solution)\n",
        "  if tokens2:\n",
        "    tokens.extend(tokens2)\n",
        "  if tokens3:\n",
        "    tokens.extend(tokens3)\n",
        "  for sent in tokens:\n",
        "    new_words = word_tokenize(sent)\n",
        "    new_words=list(filter(str.isalnum, new_words))\n",
        "    if new_words:\n",
        "      all_tokens.append(new_words)\n",
        "  row[\"word2vectrain\"]=all_tokens\n",
        "  return row\n",
        "\n",
        "def process_columns(column):\n",
        "  return list(itertools.chain.from_iterable(column))"
      ],
      "metadata": {
        "id": "puodjc05lB_n"
      },
      "execution_count": 38,
      "outputs": []
    },
    {
      "cell_type": "code",
      "source": [
        "query_df[\"word2vectrain\"]=\"\"\n",
        "query_df=query_df.apply(create_word_list, axis=1)"
      ],
      "metadata": {
        "id": "i0x5Lqq8myke"
      },
      "execution_count": 39,
      "outputs": []
    },
    {
      "cell_type": "code",
      "source": [
        "query_df[\"merge_test\"]=\"\"\n",
        "train_list = query_df.groupby(\"merge_test\").word2vectrain.apply(process_columns)"
      ],
      "metadata": {
        "id": "318yBHHBBibx"
      },
      "execution_count": 40,
      "outputs": []
    },
    {
      "cell_type": "code",
      "source": [
        "import json\n",
        "with open(\"word2vectraining.json\",\"wt\",encoding=\"utf8\") as fp:\n",
        "  json.dump(train_list[0], fp)"
      ],
      "metadata": {
        "id": "hVChhr7j_jCJ"
      },
      "execution_count": 41,
      "outputs": []
    },
    {
      "cell_type": "code",
      "source": [
        "query_df.shape"
      ],
      "metadata": {
        "colab": {
          "base_uri": "https://localhost:8080/"
        },
        "id": "KJkm9ClCBSmn",
        "outputId": "86484125-c07e-4312-d9b3-fb4f9d98b4c9"
      },
      "execution_count": 42,
      "outputs": [
        {
          "output_type": "execute_result",
          "data": {
            "text/plain": [
              "(783574, 7)"
            ]
          },
          "metadata": {},
          "execution_count": 42
        }
      ]
    },
    {
      "cell_type": "code",
      "source": [
        "!pip install wget\n",
        "!pip install gensim"
      ],
      "metadata": {
        "colab": {
          "base_uri": "https://localhost:8080/"
        },
        "id": "tyy1Kk9wBaRM",
        "outputId": "f9bb3c17-52c3-4e23-9b2c-4369d1715f44"
      },
      "execution_count": 43,
      "outputs": [
        {
          "output_type": "stream",
          "name": "stdout",
          "text": [
            "Collecting wget\n",
            "  Downloading wget-3.2.zip (10 kB)\n",
            "Building wheels for collected packages: wget\n",
            "  Building wheel for wget (setup.py) ... \u001b[?25l\u001b[?25hdone\n",
            "  Created wheel for wget: filename=wget-3.2-py3-none-any.whl size=9675 sha256=ec8ad9bce28eff5a5794c02798e56dca49e1d380d32d75cbdb3dacb8c31964f7\n",
            "  Stored in directory: /root/.cache/pip/wheels/a1/b6/7c/0e63e34eb06634181c63adacca38b79ff8f35c37e3c13e3c02\n",
            "Successfully built wget\n",
            "Installing collected packages: wget\n",
            "Successfully installed wget-3.2\n",
            "Requirement already satisfied: gensim in /usr/local/lib/python3.7/dist-packages (3.6.0)\n",
            "Requirement already satisfied: scipy>=0.18.1 in /usr/local/lib/python3.7/dist-packages (from gensim) (1.4.1)\n",
            "Requirement already satisfied: numpy>=1.11.3 in /usr/local/lib/python3.7/dist-packages (from gensim) (1.21.5)\n",
            "Requirement already satisfied: six>=1.5.0 in /usr/local/lib/python3.7/dist-packages (from gensim) (1.15.0)\n",
            "Requirement already satisfied: smart-open>=1.2.1 in /usr/local/lib/python3.7/dist-packages (from gensim) (5.2.1)\n"
          ]
        }
      ]
    },
    {
      "cell_type": "code",
      "source": [
        "import os\n",
        "import wget\n",
        "import gzip\n",
        "import shutil\n",
        "import json\n",
        "os.chdir(\"/content/drive/MyDrive/Learning/bigspring_assignment/twitter_cs/\")\n",
        "with open(\"word2vectraining.json\",\"rt\",encoding=\"utf8\") as fp:\n",
        "  sentences=json.load(fp)\n",
        "\n",
        "\n",
        "gn_vec_path = \"/content/GoogleNews-vectors-negative300.bin\"\n",
        "gn_vec_zip_path = \"/content/GoogleNews-vectors-negative300.bin.gz\"\n",
        "\n",
        "if not os.path.exists(gn_vec_path):\n",
        "  if not os.path.exists(gn_vec_zip_path):\n",
        "    wget.download(\"https://s3.amazonaws.com/dl4j-distribution/GoogleNews-vectors-negative300.bin.gz\",\"/content/\")\n",
        "    with gzip.open(gn_vec_zip_path, 'rb') as f_in:\n",
        "      with open(gn_vec_path, 'wb') as f_out:\n",
        "        shutil.copyfileobj(f_in, f_out)\n",
        "  else:\n",
        "    with gzip.open(gn_vec_zip_path, 'rb') as f_in:\n",
        "      with open(gn_vec_path, 'wb') as f_out:\n",
        "        shutil.copyfileobj(f_in, f_out)\n",
        "\n",
        "print(f\"Model at {gn_vec_path}\")"
      ],
      "metadata": {
        "colab": {
          "base_uri": "https://localhost:8080/"
        },
        "id": "ePr1vdwSBgfH",
        "outputId": "0479c5c2-c675-4eae-bec4-4208f5cc045a"
      },
      "execution_count": 1,
      "outputs": [
        {
          "output_type": "stream",
          "name": "stdout",
          "text": [
            "Model at /content/GoogleNews-vectors-negative300.bin\n"
          ]
        }
      ]
    },
    {
      "cell_type": "code",
      "source": [
        "from gensim.models import Word2Vec, KeyedVectors\n",
        "import io"
      ],
      "metadata": {
        "id": "JqKfpnq-Cs-G"
      },
      "execution_count": 2,
      "outputs": []
    },
    {
      "cell_type": "code",
      "source": [
        "len(sentences)"
      ],
      "metadata": {
        "colab": {
          "base_uri": "https://localhost:8080/"
        },
        "id": "aECemXnHImak",
        "outputId": "e7e35a44-a424-4227-e1cc-f18b3a814e2c"
      },
      "execution_count": 3,
      "outputs": [
        {
          "output_type": "execute_result",
          "data": {
            "text/plain": [
              "4392268"
            ]
          },
          "metadata": {},
          "execution_count": 3
        }
      ]
    },
    {
      "cell_type": "code",
      "source": [
        "word2vec_model = Word2Vec(size = 300)"
      ],
      "metadata": {
        "id": "FJiDGf3_tJMu"
      },
      "execution_count": 4,
      "outputs": []
    },
    {
      "cell_type": "code",
      "source": [
        "word2vec_model.build_vocab(sentences)"
      ],
      "metadata": {
        "id": "8FdPpJl0tPMr"
      },
      "execution_count": 5,
      "outputs": []
    },
    {
      "cell_type": "code",
      "source": [
        "word2vec_model.intersect_word2vec_format(gn_vec_path, lockf=1.0, binary=True)"
      ],
      "metadata": {
        "id": "1odXWKkPtTOh"
      },
      "execution_count": 6,
      "outputs": []
    },
    {
      "cell_type": "code",
      "source": [
        "word2vec_model.train(sentences, total_examples=len(sentences), epochs = 5)"
      ],
      "metadata": {
        "colab": {
          "base_uri": "https://localhost:8080/"
        },
        "id": "Ctj3RRPdtfx9",
        "outputId": "d25dd697-5b90-4154-e4b3-a8ec9c0e4047"
      },
      "execution_count": 7,
      "outputs": [
        {
          "output_type": "execute_result",
          "data": {
            "text/plain": [
              "(154825191, 216163195)"
            ]
          },
          "metadata": {},
          "execution_count": 7
        }
      ]
    },
    {
      "cell_type": "code",
      "source": [
        "weights = word2vec_model.wv.vectors\n",
        "#vocab = word2vec_model.index2word\n",
        "vocab = word2vec_model.wv.index2word"
      ],
      "metadata": {
        "id": "e-itfTNbVfnX"
      },
      "execution_count": 8,
      "outputs": []
    },
    {
      "cell_type": "code",
      "source": [
        "len(vocab)"
      ],
      "metadata": {
        "id": "FwNVTpoEOhaz",
        "outputId": "31fc9b21-eb99-496d-a84f-77d90276efe0",
        "colab": {
          "base_uri": "https://localhost:8080/"
        }
      },
      "execution_count": 9,
      "outputs": [
        {
          "output_type": "execute_result",
          "data": {
            "text/plain": [
              "51888"
            ]
          },
          "metadata": {},
          "execution_count": 9
        }
      ]
    },
    {
      "cell_type": "code",
      "source": [
        "out_v = io.open('vectors.tsv', 'w', encoding='utf-8')\n",
        "out_m = io.open('metadata.tsv', 'w', encoding='utf-8')\n",
        "\n",
        "for index, word in enumerate(vocab):\n",
        "  if index == 0:\n",
        "    continue  # skip 0, it's padding.\n",
        "  vec = weights[index]\n",
        "  out_v.write('\\t'.join([str(x) for x in vec]) + \"\\n\")\n",
        "  out_m.write(word + \"\\n\")\n",
        "out_v.close()\n",
        "out_m.close()\n"
      ],
      "metadata": {
        "id": "Xhze6oSCVeMQ"
      },
      "execution_count": 10,
      "outputs": []
    },
    {
      "cell_type": "code",
      "source": [
        "word2vec_model.most_similar('to')"
      ],
      "metadata": {
        "id": "GD2PXEqSE4U1",
        "colab": {
          "base_uri": "https://localhost:8080/"
        },
        "outputId": "01169757-3f6b-4651-cf6c-eb275e41cd44"
      },
      "execution_count": 11,
      "outputs": [
        {
          "output_type": "stream",
          "name": "stderr",
          "text": [
            "/usr/local/lib/python3.7/dist-packages/ipykernel_launcher.py:1: DeprecationWarning: Call to deprecated `most_similar` (Method will be removed in 4.0.0, use self.wv.most_similar() instead).\n",
            "  \"\"\"Entry point for launching an IPython kernel.\n"
          ]
        },
        {
          "output_type": "execute_result",
          "data": {
            "text/plain": [
              "[('and', 0.4837303161621094),\n",
              " ('when', 0.4553842544555664),\n",
              " ('then', 0.43360960483551025),\n",
              " ('will', 0.4170472025871277),\n",
              " ('unless', 0.4098970890045166),\n",
              " ('if', 0.3973616361618042),\n",
              " ('i', 0.38653653860092163),\n",
              " ('before', 0.38068073987960815),\n",
              " ('also', 0.36886653304100037),\n",
              " ('amp', 0.36398470401763916)]"
            ]
          },
          "metadata": {},
          "execution_count": 11
        }
      ]
    },
    {
      "cell_type": "code",
      "source": [
        "word2vec_model['computer']"
      ],
      "metadata": {
        "id": "4K7lDAw6FF3K",
        "colab": {
          "base_uri": "https://localhost:8080/"
        },
        "outputId": "1bcf8da5-dfd4-48a5-a411-bb8f1fcfbaf1"
      },
      "execution_count": 12,
      "outputs": [
        {
          "output_type": "stream",
          "name": "stderr",
          "text": [
            "/usr/local/lib/python3.7/dist-packages/ipykernel_launcher.py:1: DeprecationWarning: Call to deprecated `__getitem__` (Method will be removed in 4.0.0, use self.wv.__getitem__() instead).\n",
            "  \"\"\"Entry point for launching an IPython kernel.\n"
          ]
        },
        {
          "output_type": "execute_result",
          "data": {
            "text/plain": [
              "array([ 2.08937573e+00, -1.93909121e+00,  4.58976366e-02,  1.27546465e+00,\n",
              "       -7.53119290e-01,  8.06762502e-02,  7.75118411e-01,  1.25379944e+00,\n",
              "        1.34833670e+00,  1.27956533e+00,  3.54163557e-01, -6.02699108e-02,\n",
              "        7.72095978e-01,  5.06514370e-01,  1.18019986e+00,  3.13501984e-01,\n",
              "        2.67885774e-01,  2.13308454e-01,  8.60503376e-01, -3.81577104e-01,\n",
              "        6.87287390e-01,  1.59580672e+00,  1.41817534e+00, -2.27526249e-03,\n",
              "        1.40637428e-01, -1.02538690e-01,  3.77418369e-01,  1.46987581e+00,\n",
              "        4.84826088e-01, -5.73469043e-01, -9.09812927e-01,  9.46880504e-02,\n",
              "       -2.18653321e+00, -8.16315830e-01, -1.72880411e+00, -1.50154114e+00,\n",
              "       -2.81911314e-01,  5.34344792e-01,  2.03949869e-01, -1.62689197e+00,\n",
              "        8.71677279e-01,  5.77825546e-01,  1.90421748e+00,  7.74347425e-01,\n",
              "       -2.56223202e-01,  5.03253758e-01, -6.70913458e-02,  7.71198690e-01,\n",
              "        5.43848157e-01, -1.42897308e+00, -5.61217666e-01,  8.32529515e-02,\n",
              "        5.18005669e-01, -8.96649361e-01,  1.04070687e+00, -1.76025188e+00,\n",
              "        1.69337142e+00,  1.45901942e+00,  1.60740197e-01,  7.10631788e-01,\n",
              "        4.00267839e-01,  7.74270952e-01,  9.49833751e-01,  7.59717643e-01,\n",
              "       -4.83443409e-01,  4.14104551e-01, -9.14840996e-01,  1.06484734e-01,\n",
              "       -3.75413567e-01,  3.03874761e-01,  2.22241688e+00, -3.90401304e-01,\n",
              "       -6.49277925e-01, -3.97660702e-01, -1.38978791e+00,  1.41282153e+00,\n",
              "        7.73493707e-01,  9.62386787e-01,  1.32481170e+00,  9.51165557e-01,\n",
              "       -1.86847180e-01,  2.08601308e+00,  1.40333366e+00, -1.23031199e+00,\n",
              "        2.63738537e+00, -1.79690540e+00,  3.21622640e-01,  1.29298258e+00,\n",
              "       -1.14618033e-01,  9.66872454e-01,  6.96989834e-01, -2.34811020e+00,\n",
              "        2.86549509e-01,  1.29099846e+00,  4.64572251e-01, -7.67922699e-02,\n",
              "        8.06584597e-01,  1.25841022e+00,  9.24888313e-01,  1.66871045e-02,\n",
              "        8.25611651e-01, -3.60959679e-01, -6.61363661e-01, -5.90301633e-01,\n",
              "        1.16570853e-01,  1.16224778e+00,  1.13817012e+00,  1.45626262e-01,\n",
              "        1.30556083e+00, -1.26466441e+00, -1.17930686e+00,  7.96328187e-02,\n",
              "        2.43121162e-01, -8.24664772e-01, -1.45313764e+00, -8.01224291e-01,\n",
              "       -2.71446049e-01, -1.78978354e-01, -1.08832829e-01,  3.88075382e-01,\n",
              "       -8.06250423e-03, -3.02582532e-01, -5.78705728e-01,  2.03760982e-01,\n",
              "       -1.06575036e+00,  3.89593333e-01, -1.03982472e+00,  2.56519556e-01,\n",
              "       -5.25558770e-01, -1.82513189e+00, -3.80564213e-01, -8.12584013e-02,\n",
              "       -7.70779848e-01,  1.78104770e+00,  1.38859642e+00, -4.63200271e-01,\n",
              "        1.61969674e+00,  8.27260792e-01, -1.02819264e+00, -2.96361774e-01,\n",
              "        8.98280799e-01, -1.30900300e+00,  3.85558486e-01, -1.10151398e+00,\n",
              "       -8.74700025e-03, -6.48824990e-01, -8.58748376e-01, -1.85490340e-01,\n",
              "       -6.94302797e-01, -2.78689470e-02,  3.22461993e-01, -8.08914185e-01,\n",
              "        7.75328755e-01,  1.37657166e+00,  3.68389815e-01, -1.78877190e-01,\n",
              "        1.16221309e+00, -8.68336141e-01, -8.26298118e-01,  1.48185921e+00,\n",
              "        5.52825987e-01,  1.19028151e+00, -2.02270722e+00, -2.00384572e-01,\n",
              "        1.95916402e+00, -7.10692346e-01,  1.91134703e+00,  1.69205987e+00,\n",
              "       -1.70168304e+00,  1.43462628e-01, -8.48414227e-02,  5.83258927e-01,\n",
              "       -4.41028148e-01, -1.92770902e-02, -5.83828688e-01, -4.63985465e-02,\n",
              "        7.78651595e-01, -5.01635611e-01, -7.37206042e-01,  1.62294459e+00,\n",
              "        7.12713659e-01,  2.84827352e-01,  2.35828534e-01, -8.14127326e-01,\n",
              "       -1.21044956e-01,  8.84444952e-01, -1.20957732e+00, -2.44262743e+00,\n",
              "        1.83261693e+00, -6.87630296e-01,  1.59639850e-01,  2.24936533e+00,\n",
              "       -1.92631930e-01,  1.19888771e+00,  1.49033695e-01,  4.78382736e-01,\n",
              "        1.03184748e+00, -7.71202028e-01, -1.54333806e+00, -8.84387791e-01,\n",
              "        9.25151348e-01,  1.67760825e+00, -4.33274597e-01,  2.61417699e+00,\n",
              "        1.11186218e+00,  7.48101950e-01,  5.58756888e-01, -7.52041817e-01,\n",
              "       -1.33777678e+00, -1.82208002e+00, -1.15954971e+00,  1.67957175e+00,\n",
              "       -1.54816127e+00, -7.38755822e-01, -1.20075619e+00, -1.13029277e+00,\n",
              "       -1.02827382e+00,  9.40628171e-01, -1.11806488e+00, -1.25633824e+00,\n",
              "       -1.88517797e+00, -6.28805101e-01, -5.14977157e-01, -8.37347209e-01,\n",
              "        9.27759558e-02, -8.95897865e-01,  9.54895139e-01,  3.72271001e-01,\n",
              "        7.37232029e-01, -1.77463546e-01,  3.16976085e-02, -2.34710619e-01,\n",
              "        1.03999414e-01, -1.49482477e+00, -1.90356195e+00, -9.54796433e-01,\n",
              "       -3.83252352e-01, -2.44264692e-01, -1.77263236e+00,  5.49777627e-01,\n",
              "        4.79535609e-01, -1.76821029e+00,  9.81395900e-01,  2.25395530e-01,\n",
              "        7.29346454e-01, -8.29047501e-01,  2.67985225e-01,  3.25064272e-01,\n",
              "        6.01352394e-01,  9.85294521e-01, -8.31814647e-01,  1.96022141e+00,\n",
              "        2.13497353e+00, -4.25889164e-01,  1.67938456e-01, -3.96728218e-01,\n",
              "        4.74556416e-01,  2.37798142e+00, -8.25444937e-01, -5.37779272e-01,\n",
              "        1.80798247e-02,  6.48490608e-01, -3.02067012e-01, -1.36335623e-02,\n",
              "       -1.80576488e-01,  1.34717536e+00,  6.20430589e-01,  1.32055268e-01,\n",
              "       -1.70540549e-02,  2.25219905e-01,  1.31907508e-01, -2.51607567e-01,\n",
              "        6.72840953e-01,  7.44175792e-01,  1.87930703e-01,  8.97161126e-01,\n",
              "        1.48430800e+00,  3.09536248e-01,  1.01632965e+00,  6.22296512e-01,\n",
              "        1.93284154e+00, -4.33408648e-01,  8.88415635e-01,  4.06952612e-02,\n",
              "       -4.52914894e-01, -1.26125741e+00,  1.64002085e+00, -4.02679056e-01,\n",
              "        1.46181548e+00,  3.92733842e-01, -7.43000269e-01,  4.71680820e-01,\n",
              "       -2.39262551e-01, -4.06344891e-01,  1.44069028e+00, -8.13760161e-01,\n",
              "        9.77205515e-01, -1.49292290e+00, -1.10068297e+00,  1.70716569e-01],\n",
              "      dtype=float32)"
            ]
          },
          "metadata": {},
          "execution_count": 12
        }
      ]
    },
    {
      "cell_type": "code",
      "source": [
        "#word2vec_model['I am ismail']"
      ],
      "metadata": {
        "id": "DVO0G_54FJQY"
      },
      "execution_count": 13,
      "outputs": []
    },
    {
      "cell_type": "code",
      "source": [
        "# http://projector.tensorflow.org/"
      ],
      "metadata": {
        "id": "wD16iiRMFNY8"
      },
      "execution_count": 14,
      "outputs": []
    },
    {
      "cell_type": "code",
      "source": [
        ""
      ],
      "metadata": {
        "id": "nnYVZBkhKrdh"
      },
      "execution_count": null,
      "outputs": []
    }
  ]
}